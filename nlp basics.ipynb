{
 "cells": [
  {
   "cell_type": "code",
   "execution_count": 16,
   "metadata": {},
   "outputs": [],
   "source": [
    "import nltk\n",
    "import nltk.corpus\n"
   ]
  },
  {
   "cell_type": "code",
   "execution_count": 17,
   "metadata": {},
   "outputs": [],
   "source": [
    "from nltk.tokenize import word_tokenize"
   ]
  },
  {
   "cell_type": "code",
   "execution_count": 18,
   "metadata": {},
   "outputs": [],
   "source": [
    "text = 'A tree has many analogies in real life, and turns out that it has influenced a wide area of machine learning, covering both classification and regression. In decision analysis, a decision tree can be used to visually and explicitly represent decisions and decision making.'"
   ]
  },
  {
   "cell_type": "code",
   "execution_count": 19,
   "metadata": {},
   "outputs": [
    {
     "data": {
      "text/plain": [
       "['A',\n",
       " 'tree',\n",
       " 'has',\n",
       " 'many',\n",
       " 'analogies',\n",
       " 'in',\n",
       " 'real',\n",
       " 'life',\n",
       " ',',\n",
       " 'and',\n",
       " 'turns',\n",
       " 'out',\n",
       " 'that',\n",
       " 'it',\n",
       " 'has',\n",
       " 'influenced',\n",
       " 'a',\n",
       " 'wide',\n",
       " 'area',\n",
       " 'of',\n",
       " 'machine',\n",
       " 'learning',\n",
       " ',',\n",
       " 'covering',\n",
       " 'both',\n",
       " 'classification',\n",
       " 'and',\n",
       " 'regression',\n",
       " '.',\n",
       " 'In',\n",
       " 'decision',\n",
       " 'analysis',\n",
       " ',',\n",
       " 'a',\n",
       " 'decision',\n",
       " 'tree',\n",
       " 'can',\n",
       " 'be',\n",
       " 'used',\n",
       " 'to',\n",
       " 'visually',\n",
       " 'and',\n",
       " 'explicitly',\n",
       " 'represent',\n",
       " 'decisions',\n",
       " 'and',\n",
       " 'decision',\n",
       " 'making',\n",
       " '.']"
      ]
     },
     "execution_count": 19,
     "metadata": {},
     "output_type": "execute_result"
    }
   ],
   "source": [
    "text_token=word_tokenize(text)\n",
    "text_token"
   ]
  },
  {
   "cell_type": "code",
   "execution_count": 20,
   "metadata": {},
   "outputs": [
    {
     "data": {
      "text/plain": [
       "(list, 49)"
      ]
     },
     "execution_count": 20,
     "metadata": {},
     "output_type": "execute_result"
    }
   ],
   "source": [
    "#checking the type and no of tokens\n",
    "type(text_token), len(text_token)"
   ]
  },
  {
   "cell_type": "code",
   "execution_count": 21,
   "metadata": {},
   "outputs": [],
   "source": [
    "#frequency of tokens\n",
    "from nltk.probability import FreqDist\n",
    "fdist = FreqDist()"
   ]
  },
  {
   "cell_type": "code",
   "execution_count": 22,
   "metadata": {},
   "outputs": [
    {
     "data": {
      "text/plain": [
       "FreqDist({'and': 4, ',': 3, 'decision': 3, 'tree': 2, 'has': 2, 'a': 2, '.': 2, 'A': 1, 'many': 1, 'analogies': 1, ...})"
      ]
     },
     "execution_count": 22,
     "metadata": {},
     "output_type": "execute_result"
    }
   ],
   "source": [
    "for i in text_token:\n",
    "    fdist[i]=fdist[i]+1\n",
    "fdist"
   ]
  },
  {
   "cell_type": "code",
   "execution_count": 23,
   "metadata": {},
   "outputs": [
    {
     "data": {
      "text/plain": [
       "[('and', 4),\n",
       " (',', 3),\n",
       " ('decision', 3),\n",
       " ('tree', 2),\n",
       " ('has', 2),\n",
       " ('a', 2),\n",
       " ('.', 2),\n",
       " ('A', 1),\n",
       " ('many', 1),\n",
       " ('analogies', 1)]"
      ]
     },
     "execution_count": 23,
     "metadata": {},
     "output_type": "execute_result"
    }
   ],
   "source": [
    "top_10 = fdist.most_common(10)\n",
    "top_10"
   ]
  },
  {
   "cell_type": "code",
   "execution_count": 24,
   "metadata": {},
   "outputs": [
    {
     "data": {
      "text/plain": [
       "[('A', 'tree'),\n",
       " ('tree', 'has'),\n",
       " ('has', 'many'),\n",
       " ('many', 'analogies'),\n",
       " ('analogies', 'in'),\n",
       " ('in', 'real'),\n",
       " ('real', 'life'),\n",
       " ('life', ','),\n",
       " (',', 'and'),\n",
       " ('and', 'turns'),\n",
       " ('turns', 'out'),\n",
       " ('out', 'that'),\n",
       " ('that', 'it'),\n",
       " ('it', 'has'),\n",
       " ('has', 'influenced'),\n",
       " ('influenced', 'a'),\n",
       " ('a', 'wide'),\n",
       " ('wide', 'area'),\n",
       " ('area', 'of'),\n",
       " ('of', 'machine'),\n",
       " ('machine', 'learning'),\n",
       " ('learning', ','),\n",
       " (',', 'covering'),\n",
       " ('covering', 'both'),\n",
       " ('both', 'classification'),\n",
       " ('classification', 'and'),\n",
       " ('and', 'regression'),\n",
       " ('regression', '.'),\n",
       " ('.', 'In'),\n",
       " ('In', 'decision'),\n",
       " ('decision', 'analysis'),\n",
       " ('analysis', ','),\n",
       " (',', 'a'),\n",
       " ('a', 'decision'),\n",
       " ('decision', 'tree'),\n",
       " ('tree', 'can'),\n",
       " ('can', 'be'),\n",
       " ('be', 'used'),\n",
       " ('used', 'to'),\n",
       " ('to', 'visually'),\n",
       " ('visually', 'and'),\n",
       " ('and', 'explicitly'),\n",
       " ('explicitly', 'represent'),\n",
       " ('represent', 'decisions'),\n",
       " ('decisions', 'and'),\n",
       " ('and', 'decision'),\n",
       " ('decision', 'making'),\n",
       " ('making', '.')]"
      ]
     },
     "execution_count": 24,
     "metadata": {},
     "output_type": "execute_result"
    }
   ],
   "source": [
    "#bi-gram tokens\n",
    "list(nltk.bigrams(text_token))"
   ]
  },
  {
   "cell_type": "code",
   "execution_count": 25,
   "metadata": {},
   "outputs": [
    {
     "data": {
      "text/plain": [
       "[('A', 'tree', 'has'),\n",
       " ('tree', 'has', 'many'),\n",
       " ('has', 'many', 'analogies'),\n",
       " ('many', 'analogies', 'in'),\n",
       " ('analogies', 'in', 'real'),\n",
       " ('in', 'real', 'life'),\n",
       " ('real', 'life', ','),\n",
       " ('life', ',', 'and'),\n",
       " (',', 'and', 'turns'),\n",
       " ('and', 'turns', 'out'),\n",
       " ('turns', 'out', 'that'),\n",
       " ('out', 'that', 'it'),\n",
       " ('that', 'it', 'has'),\n",
       " ('it', 'has', 'influenced'),\n",
       " ('has', 'influenced', 'a'),\n",
       " ('influenced', 'a', 'wide'),\n",
       " ('a', 'wide', 'area'),\n",
       " ('wide', 'area', 'of'),\n",
       " ('area', 'of', 'machine'),\n",
       " ('of', 'machine', 'learning'),\n",
       " ('machine', 'learning', ','),\n",
       " ('learning', ',', 'covering'),\n",
       " (',', 'covering', 'both'),\n",
       " ('covering', 'both', 'classification'),\n",
       " ('both', 'classification', 'and'),\n",
       " ('classification', 'and', 'regression'),\n",
       " ('and', 'regression', '.'),\n",
       " ('regression', '.', 'In'),\n",
       " ('.', 'In', 'decision'),\n",
       " ('In', 'decision', 'analysis'),\n",
       " ('decision', 'analysis', ','),\n",
       " ('analysis', ',', 'a'),\n",
       " (',', 'a', 'decision'),\n",
       " ('a', 'decision', 'tree'),\n",
       " ('decision', 'tree', 'can'),\n",
       " ('tree', 'can', 'be'),\n",
       " ('can', 'be', 'used'),\n",
       " ('be', 'used', 'to'),\n",
       " ('used', 'to', 'visually'),\n",
       " ('to', 'visually', 'and'),\n",
       " ('visually', 'and', 'explicitly'),\n",
       " ('and', 'explicitly', 'represent'),\n",
       " ('explicitly', 'represent', 'decisions'),\n",
       " ('represent', 'decisions', 'and'),\n",
       " ('decisions', 'and', 'decision'),\n",
       " ('and', 'decision', 'making'),\n",
       " ('decision', 'making', '.')]"
      ]
     },
     "execution_count": 25,
     "metadata": {},
     "output_type": "execute_result"
    }
   ],
   "source": [
    "#tri-gram\n",
    "list(nltk.trigrams(text_token))"
   ]
  },
  {
   "cell_type": "code",
   "execution_count": 26,
   "metadata": {},
   "outputs": [
    {
     "data": {
      "text/plain": [
       "[('A', 'tree', 'has', 'many'),\n",
       " ('tree', 'has', 'many', 'analogies'),\n",
       " ('has', 'many', 'analogies', 'in'),\n",
       " ('many', 'analogies', 'in', 'real'),\n",
       " ('analogies', 'in', 'real', 'life'),\n",
       " ('in', 'real', 'life', ','),\n",
       " ('real', 'life', ',', 'and'),\n",
       " ('life', ',', 'and', 'turns'),\n",
       " (',', 'and', 'turns', 'out'),\n",
       " ('and', 'turns', 'out', 'that'),\n",
       " ('turns', 'out', 'that', 'it'),\n",
       " ('out', 'that', 'it', 'has'),\n",
       " ('that', 'it', 'has', 'influenced'),\n",
       " ('it', 'has', 'influenced', 'a'),\n",
       " ('has', 'influenced', 'a', 'wide'),\n",
       " ('influenced', 'a', 'wide', 'area'),\n",
       " ('a', 'wide', 'area', 'of'),\n",
       " ('wide', 'area', 'of', 'machine'),\n",
       " ('area', 'of', 'machine', 'learning'),\n",
       " ('of', 'machine', 'learning', ','),\n",
       " ('machine', 'learning', ',', 'covering'),\n",
       " ('learning', ',', 'covering', 'both'),\n",
       " (',', 'covering', 'both', 'classification'),\n",
       " ('covering', 'both', 'classification', 'and'),\n",
       " ('both', 'classification', 'and', 'regression'),\n",
       " ('classification', 'and', 'regression', '.'),\n",
       " ('and', 'regression', '.', 'In'),\n",
       " ('regression', '.', 'In', 'decision'),\n",
       " ('.', 'In', 'decision', 'analysis'),\n",
       " ('In', 'decision', 'analysis', ','),\n",
       " ('decision', 'analysis', ',', 'a'),\n",
       " ('analysis', ',', 'a', 'decision'),\n",
       " (',', 'a', 'decision', 'tree'),\n",
       " ('a', 'decision', 'tree', 'can'),\n",
       " ('decision', 'tree', 'can', 'be'),\n",
       " ('tree', 'can', 'be', 'used'),\n",
       " ('can', 'be', 'used', 'to'),\n",
       " ('be', 'used', 'to', 'visually'),\n",
       " ('used', 'to', 'visually', 'and'),\n",
       " ('to', 'visually', 'and', 'explicitly'),\n",
       " ('visually', 'and', 'explicitly', 'represent'),\n",
       " ('and', 'explicitly', 'represent', 'decisions'),\n",
       " ('explicitly', 'represent', 'decisions', 'and'),\n",
       " ('represent', 'decisions', 'and', 'decision'),\n",
       " ('decisions', 'and', 'decision', 'making'),\n",
       " ('and', 'decision', 'making', '.')]"
      ]
     },
     "execution_count": 26,
     "metadata": {},
     "output_type": "execute_result"
    }
   ],
   "source": [
    "#n-grams \n",
    "list(nltk.ngrams(text_token,4))"
   ]
  },
  {
   "cell_type": "code",
   "execution_count": 27,
   "metadata": {},
   "outputs": [
    {
     "data": {
      "text/plain": [
       "('buy', 'give')"
      ]
     },
     "execution_count": 27,
     "metadata": {},
     "output_type": "execute_result"
    }
   ],
   "source": [
    "#stemming\n",
    "from nltk.stem import PorterStemmer\n",
    "pst = PorterStemmer()\n",
    "pst.stem('buying'),pst.stem('giving')"
   ]
  },
  {
   "cell_type": "code",
   "execution_count": 28,
   "metadata": {},
   "outputs": [],
   "source": [
    "#lemmaitization\n",
    "\n",
    "from nltk.stem import wordnet\n",
    "from nltk.stem import WordNetLemmatizer\n",
    "lemmatizer = WordNetLemmatizer()"
   ]
  },
  {
   "cell_type": "code",
   "execution_count": null,
   "metadata": {},
   "outputs": [],
   "source": []
  },
  {
   "cell_type": "code",
   "execution_count": 31,
   "metadata": {},
   "outputs": [],
   "source": [
    "#pos parts of Speech\n",
    "\n",
    "peace = \"what do you mean\""
   ]
  },
  {
   "cell_type": "code",
   "execution_count": 32,
   "metadata": {},
   "outputs": [
    {
     "name": "stdout",
     "output_type": "stream",
     "text": [
      "[('what', 'WP')]\n",
      "[('do', 'VB')]\n",
      "[('you', 'PRP')]\n",
      "[('mean', 'NN')]\n"
     ]
    }
   ],
   "source": [
    "peace_token = word_tokenize(peace)\n",
    "\n",
    "for i in peace_token:\n",
    "    print(nltk.pos_tag([i]))"
   ]
  },
  {
   "cell_type": "code",
   "execution_count": 33,
   "metadata": {},
   "outputs": [],
   "source": [
    "#Named Entity Recognition\n",
    "\n",
    "from nltk import ne_chunk"
   ]
  },
  {
   "cell_type": "code",
   "execution_count": 52,
   "metadata": {},
   "outputs": [],
   "source": [
    "tee = \"yuvarajan lives in India\"\n",
    "tee_token = word_tokenize(tee)"
   ]
  },
  {
   "cell_type": "raw",
   "metadata": {},
   "source": []
  },
  {
   "cell_type": "code",
   "execution_count": 53,
   "metadata": {},
   "outputs": [
    {
     "data": {
      "text/plain": [
       "[('yuvarajan', 'NN'), ('lives', 'NNS'), ('in', 'IN'), ('India', 'NNP')]"
      ]
     },
     "execution_count": 53,
     "metadata": {},
     "output_type": "execute_result"
    }
   ],
   "source": [
    "tee_tokens = nltk.pos_tag(tee_token)\n",
    "tee_tokens"
   ]
  },
  {
   "cell_type": "code",
   "execution_count": 54,
   "metadata": {},
   "outputs": [
    {
     "name": "stdout",
     "output_type": "stream",
     "text": [
      "(S yuvarajan/NN lives/NNS in/IN (GPE India/NNP))\n"
     ]
    }
   ],
   "source": [
    "textt = ne_chunk(tee_tokens)\n",
    "print(textt)"
   ]
  },
  {
   "cell_type": "code",
   "execution_count": null,
   "metadata": {},
   "outputs": [],
   "source": []
  }
 ],
 "metadata": {
  "kernelspec": {
   "display_name": "Python 3",
   "language": "python",
   "name": "python3"
  },
  "language_info": {
   "codemirror_mode": {
    "name": "ipython",
    "version": 3
   },
   "file_extension": ".py",
   "mimetype": "text/x-python",
   "name": "python",
   "nbconvert_exporter": "python",
   "pygments_lexer": "ipython3",
   "version": "3.6.8"
  }
 },
 "nbformat": 4,
 "nbformat_minor": 2
}
